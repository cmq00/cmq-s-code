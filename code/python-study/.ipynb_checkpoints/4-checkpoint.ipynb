{
 "cells": [
  {
   "cell_type": "code",
   "execution_count": 1,
   "id": "85783f09",
   "metadata": {},
   "outputs": [
    {
     "name": "stdout",
     "output_type": "stream",
     "text": [
      "100\n",
      "1000.0\n",
      "runoob\n"
     ]
    }
   ],
   "source": [
    "counter = 100\n",
    "miles = 1000.0\n",
    "name = 'runoob'\n",
    "print(counter)\n",
    "print(miles)\n",
    "print(name)"
   ]
  },
  {
   "cell_type": "code",
   "execution_count": 2,
   "id": "6154d2ab",
   "metadata": {},
   "outputs": [
    {
     "name": "stdout",
     "output_type": "stream",
     "text": [
      "1 2\n"
     ]
    }
   ],
   "source": [
    "a = 1\n",
    "b = 2\n",
    "a,b = b,a\n",
    "print(b,a)"
   ]
  },
  {
   "cell_type": "code",
   "execution_count": 7,
   "id": "40a5018a",
   "metadata": {},
   "outputs": [
    {
     "name": "stdout",
     "output_type": "stream",
     "text": [
      "<class 'int'> <class 'float'> <class 'bool'> <class 'complex'>\n"
     ]
    }
   ],
   "source": [
    "a,b,c,d = 20,5.5,True,4 + 3j\n",
    "print(type(a),type(b),type(c),type(d))"
   ]
  },
  {
   "cell_type": "code",
   "execution_count": 9,
   "id": "ece3bbee",
   "metadata": {},
   "outputs": [
    {
     "data": {
      "text/plain": [
       "False"
      ]
     },
     "execution_count": 9,
     "metadata": {},
     "output_type": "execute_result"
    }
   ],
   "source": [
    "a = 111\n",
    "isinstance(a,bool)"
   ]
  },
  {
   "cell_type": "markdown",
   "id": "c10327ac",
   "metadata": {},
   "source": [
    "list(列表）"
   ]
  },
  {
   "cell_type": "code",
   "execution_count": 1,
   "id": "4700bf5c",
   "metadata": {},
   "outputs": [
    {
     "name": "stdout",
     "output_type": "stream",
     "text": [
      "['abcd', 786, 2.23, 'runoob', 7.22]\n",
      "[123, 'runoob']\n"
     ]
    }
   ],
   "source": [
    "\n",
    "#!/usr/bin/python3\n",
    "list = ['abcd',786,2.23,'runoob',7.22]\n",
    "tinylist = [123,'runoob']\n",
    "\n",
    "print(list)\n",
    "print(tinylist)"
   ]
  },
  {
   "cell_type": "code",
   "execution_count": 23,
   "id": "e298aa5e",
   "metadata": {
    "scrolled": true
   },
   "outputs": [
    {
     "name": "stdout",
     "output_type": "stream",
     "text": [
      "runoob like I\n"
     ]
    }
   ],
   "source": [
    "def reversWords(input):\n",
    "    inputWords = input.split(\" \")\n",
    "    inputWords = inputWords[-1::-1]\n",
    "    output = ' '.join(inputWords)\n",
    "    return output\n",
    "\n",
    "if __name__ == \"__main__\":\n",
    "    input = 'I like runoob'\n",
    "    rw = reversWords(input)\n",
    "    print(rw)"
   ]
  },
  {
   "cell_type": "code",
   "execution_count": null,
   "id": "4fe129ce",
   "metadata": {},
   "outputs": [],
   "source": []
  },
  {
   "cell_type": "markdown",
   "id": "48674827",
   "metadata": {},
   "source": [
    "Tuple(元组）  元组（tuple）与列表类似，不同之处在于元组的元素不能修改"
   ]
  },
  {
   "cell_type": "code",
   "execution_count": 5,
   "id": "06d8f218",
   "metadata": {},
   "outputs": [
    {
     "name": "stdout",
     "output_type": "stream",
     "text": [
      "('abcd', 786, 2.23, 'runoob', 70.2)\n"
     ]
    }
   ],
   "source": [
    "tuple = ('abcd',786,2.23,'runoob',70.2)\n",
    "tinytuple = (123,'runoob')\n",
    "\n",
    "print(tuple)"
   ]
  },
  {
   "cell_type": "code",
   "execution_count": null,
   "id": "2dac688e",
   "metadata": {},
   "outputs": [],
   "source": []
  },
  {
   "cell_type": "markdown",
   "id": "8381a392",
   "metadata": {},
   "source": [
    "Set(集合)"
   ]
  },
  {
   "cell_type": "code",
   "execution_count": 8,
   "id": "3f9fb27d",
   "metadata": {},
   "outputs": [
    {
     "name": "stdout",
     "output_type": "stream",
     "text": [
      "{'taobao', 'zhihu', 'baidu', 'google'}\n",
      "runoob\n"
     ]
    }
   ],
   "source": [
    "sites = {'google','taobao','zhihu','baidu'}\n",
    "\n",
    "print(sites)\n",
    "if 'runoob' in sites:\n",
    "    print('runoob in sites')\n",
    "else:\n",
    "    print('runoob')"
   ]
  },
  {
   "cell_type": "code",
   "execution_count": 17,
   "id": "bcafc351",
   "metadata": {},
   "outputs": [
    {
     "name": "stdout",
     "output_type": "stream",
     "text": [
      "{'j', 's'}\n",
      "{'f', 'd', 's', 'c', 'e', 'j', 'g', 'b', 'a'}\n"
     ]
    }
   ],
   "source": [
    "a = set('abcdefg')\n",
    "b = set('abcdgjsfs')\n",
    "\n",
    "print(b - a)\n",
    "print(a | b)"
   ]
  },
  {
   "cell_type": "code",
   "execution_count": null,
   "id": "b2ffc6dd",
   "metadata": {},
   "outputs": [],
   "source": []
  },
  {
   "cell_type": "code",
   "execution_count": null,
   "id": "757b905f",
   "metadata": {},
   "outputs": [],
   "source": [
    "Dictionary（字典)"
   ]
  },
  {
   "cell_type": "code",
   "execution_count": 35,
   "id": "f2058d32",
   "metadata": {},
   "outputs": [
    {
     "name": "stdout",
     "output_type": "stream",
     "text": [
      "1\n",
      "2\n",
      "dict_keys(['name', 'code', 'site'])\n",
      "dict_values(['runoob', 1, 'www'])\n",
      "dict_items([('name', 'runoob'), ('code', 1), ('site', 'www')])\n"
     ]
    }
   ],
   "source": [
    "dict = {}\n",
    "dict[1] = \"1\"\n",
    "dict[2] = \"2\"\n",
    "tinydict = {'name':'runoob','code':1,'site':'www'}\n",
    "\n",
    "print (dict[1])\n",
    "print (dict[2])\n",
    "print(tinydict.keys())\n",
    "print(tinydict.values())\n",
    "print(tinydict.items())"
   ]
  },
  {
   "cell_type": "markdown",
   "id": "295e49ce",
   "metadata": {},
   "source": [
    "Python数据类型转换"
   ]
  },
  {
   "cell_type": "code",
   "execution_count": 39,
   "id": "d6f8cb96",
   "metadata": {},
   "outputs": [
    {
     "data": {
      "text/plain": [
       "10"
      ]
     },
     "execution_count": 39,
     "metadata": {},
     "output_type": "execute_result"
    }
   ],
   "source": [
    "int('1010',2)"
   ]
  },
  {
   "cell_type": "code",
   "execution_count": 40,
   "id": "7a103aa6",
   "metadata": {},
   "outputs": [
    {
     "data": {
      "text/plain": [
       "1.5"
      ]
     },
     "execution_count": 40,
     "metadata": {},
     "output_type": "execute_result"
    }
   ],
   "source": [
    "3 / 2"
   ]
  },
  {
   "cell_type": "code",
   "execution_count": 41,
   "id": "72530b42",
   "metadata": {},
   "outputs": [
    {
     "data": {
      "text/plain": [
       "9"
      ]
     },
     "execution_count": 41,
     "metadata": {},
     "output_type": "execute_result"
    }
   ],
   "source": [
    "eval('1 + 3 + 5')"
   ]
  },
  {
   "cell_type": "code",
   "execution_count": 45,
   "id": "e06f37b2",
   "metadata": {},
   "outputs": [
    {
     "name": "stdout",
     "output_type": "stream",
     "text": [
      "{1, 2, 3, 4, 5}\n"
     ]
    }
   ],
   "source": [
    "a = [1,2,3,4,4,5]\n",
    "b = set(a)\n",
    "print(b)"
   ]
  },
  {
   "cell_type": "code",
   "execution_count": 46,
   "id": "3286b34f",
   "metadata": {},
   "outputs": [
    {
     "data": {
      "text/plain": [
       "49"
      ]
     },
     "execution_count": 46,
     "metadata": {},
     "output_type": "execute_result"
    }
   ],
   "source": [
    "ord('1')"
   ]
  },
  {
   "cell_type": "code",
   "execution_count": 47,
   "id": "89951588",
   "metadata": {},
   "outputs": [
    {
     "data": {
      "text/plain": [
       "'1'"
      ]
     },
     "execution_count": 47,
     "metadata": {},
     "output_type": "execute_result"
    }
   ],
   "source": [
    "chr(49)"
   ]
  },
  {
   "cell_type": "code",
   "execution_count": 49,
   "id": "ae160c0d",
   "metadata": {},
   "outputs": [
    {
     "ename": "TypeError",
     "evalue": "unhashable type: 'list'",
     "output_type": "error",
     "traceback": [
      "\u001b[0;31m---------------------------------------------------------------------------\u001b[0m",
      "\u001b[0;31mTypeError\u001b[0m                                 Traceback (most recent call last)",
      "\u001b[0;32m/var/folders/xq/yyq_jnvs7tg9_pxdvh8xkldh0000gn/T/ipykernel_87514/2265121530.py\u001b[0m in \u001b[0;36m<module>\u001b[0;34m\u001b[0m\n\u001b[0;32m----> 1\u001b[0;31m \u001b[0;34m{\u001b[0m\u001b[0;34m[\u001b[0m\u001b[0;34m(\u001b[0m\u001b[0;36m1\u001b[0m\u001b[0;34m,\u001b[0m\u001b[0;36m2\u001b[0m\u001b[0;34m)\u001b[0m\u001b[0;34m]\u001b[0m\u001b[0;34m}\u001b[0m\u001b[0;34m\u001b[0m\u001b[0;34m\u001b[0m\u001b[0m\n\u001b[0m",
      "\u001b[0;31mTypeError\u001b[0m: unhashable type: 'list'"
     ]
    }
   ],
   "source": [
    "dict([(1,2)])"
   ]
  },
  {
   "cell_type": "code",
   "execution_count": null,
   "id": "c3d8456c",
   "metadata": {},
   "outputs": [],
   "source": []
  }
 ],
 "metadata": {
  "kernelspec": {
   "display_name": "Python 3 (ipykernel)",
   "language": "python",
   "name": "python3"
  },
  "language_info": {
   "codemirror_mode": {
    "name": "ipython",
    "version": 3
   },
   "file_extension": ".py",
   "mimetype": "text/x-python",
   "name": "python",
   "nbconvert_exporter": "python",
   "pygments_lexer": "ipython3",
   "version": "3.9.6"
  }
 },
 "nbformat": 4,
 "nbformat_minor": 5
}
