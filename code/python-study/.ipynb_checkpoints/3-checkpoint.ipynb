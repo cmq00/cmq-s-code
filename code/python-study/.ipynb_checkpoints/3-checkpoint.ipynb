{
 "cells": [
  {
   "cell_type": "code",
   "execution_count": 2,
   "id": "92121cb6",
   "metadata": {},
   "outputs": [],
   "source": [
    "# -*- coding: UTF-8  -*-"
   ]
  },
  {
   "cell_type": "markdown",
   "id": "63652dce",
   "metadata": {},
   "source": [
    "python关键字"
   ]
  },
  {
   "cell_type": "code",
   "execution_count": 5,
   "id": "c2d9fcf6",
   "metadata": {},
   "outputs": [],
   "source": [
    ">>> import keyword"
   ]
  },
  {
   "cell_type": "code",
   "execution_count": 8,
   "id": "9696246e",
   "metadata": {},
   "outputs": [
    {
     "data": {
      "text/plain": [
       "['False',\n",
       " 'None',\n",
       " 'True',\n",
       " '__peg_parser__',\n",
       " 'and',\n",
       " 'as',\n",
       " 'assert',\n",
       " 'async',\n",
       " 'await',\n",
       " 'break',\n",
       " 'class',\n",
       " 'continue',\n",
       " 'def',\n",
       " 'del',\n",
       " 'elif',\n",
       " 'else',\n",
       " 'except',\n",
       " 'finally',\n",
       " 'for',\n",
       " 'from',\n",
       " 'global',\n",
       " 'if',\n",
       " 'import',\n",
       " 'in',\n",
       " 'is',\n",
       " 'lambda',\n",
       " 'nonlocal',\n",
       " 'not',\n",
       " 'or',\n",
       " 'pass',\n",
       " 'raise',\n",
       " 'return',\n",
       " 'try',\n",
       " 'while',\n",
       " 'with',\n",
       " 'yield']"
      ]
     },
     "execution_count": 8,
     "metadata": {},
     "output_type": "execute_result"
    }
   ],
   "source": [
    ">>> keyword.kwlist"
   ]
  },
  {
   "cell_type": "code",
   "execution_count": 22,
   "id": "14288167",
   "metadata": {},
   "outputs": [
    {
     "name": "stdout",
     "output_type": "stream",
     "text": [
      "123456789\n",
      "12345678\n",
      "1\n",
      "345\n",
      "3456789\n",
      "24\n",
      "123456789123456789\n",
      "123456789你好\n",
      "hello\n",
      "stunoob\n",
      "hello\\nstuoob\n"
     ]
    }
   ],
   "source": [
    "str = '123456789'\n",
    "print(str)\n",
    "print(str[0:-1])\n",
    "print(str[0])\n",
    "print(str[2:5])\n",
    "print(str[2:])\n",
    "print(str[1:5:2])\n",
    "print(str * 2)\n",
    "print(str + '你好')\n",
    "print('hello\\nstunoob')\n",
    "print(r'hello\\nstuoob')"
   ]
  },
  {
   "cell_type": "markdown",
   "id": "14e04fec",
   "metadata": {},
   "source": [
    "# input('\\n\\n按下 enter 键退出')"
   ]
  },
  {
   "cell_type": "code",
   "execution_count": 25,
   "id": "64b61127",
   "metadata": {},
   "outputs": [
    {
     "name": "stdout",
     "output_type": "stream",
     "text": [
      "runoob\n"
     ]
    },
    {
     "data": {
      "text/plain": [
       "7"
      ]
     },
     "execution_count": 25,
     "metadata": {},
     "output_type": "execute_result"
    }
   ],
   "source": [
    "import sys; x = 'runoob'; sys.stdout.write(x + '\\n')"
   ]
  },
  {
   "cell_type": "code",
   "execution_count": 26,
   "id": "64bf2283",
   "metadata": {},
   "outputs": [
    {
     "name": "stdout",
     "output_type": "stream",
     "text": [
      "runoob\n"
     ]
    },
    {
     "data": {
      "text/plain": [
       "7"
      ]
     },
     "execution_count": 26,
     "metadata": {},
     "output_type": "execute_result"
    }
   ],
   "source": [
    ">>> import sys; x = 'runoob'; sys.stdout.write(x + '\\n')"
   ]
  },
  {
   "cell_type": "code",
   "execution_count": 29,
   "id": "8bb4dc93",
   "metadata": {},
   "outputs": [
    {
     "name": "stdout",
     "output_type": "stream",
     "text": [
      "a\n",
      "b\n",
      "a b "
     ]
    }
   ],
   "source": [
    "x = \"a\"\n",
    "y = \"b\"\n",
    "print(x)\n",
    "print(y)\n",
    "print(x,end = \" \")\n",
    "print(y,end = \" \")"
   ]
  },
  {
   "cell_type": "code",
   "execution_count": null,
   "id": "edd6a7f8",
   "metadata": {},
   "outputs": [],
   "source": [
    "! "
   ]
  },
  {
   "cell_type": "code",
   "execution_count": null,
   "id": "d296bcc3",
   "metadata": {},
   "outputs": [],
   "source": []
  }
 ],
 "metadata": {
  "kernelspec": {
   "display_name": "Python 3 (ipykernel)",
   "language": "python",
   "name": "python3"
  },
  "language_info": {
   "codemirror_mode": {
    "name": "ipython",
    "version": 3
   },
   "file_extension": ".py",
   "mimetype": "text/x-python",
   "name": "python",
   "nbconvert_exporter": "python",
   "pygments_lexer": "ipython3",
   "version": "3.9.6"
  }
 },
 "nbformat": 4,
 "nbformat_minor": 5
}
